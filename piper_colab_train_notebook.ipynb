{
  "nbformat": 4,
  "nbformat_minor": 0,
  "metadata": {
    "colab": {
      "provenance": [],
      "authorship_tag": "ABX9TyPPS9z7Dz7yb8JW+SXhg88K",
      "include_colab_link": true
    },
    "kernelspec": {
      "name": "python3",
      "display_name": "Python 3"
    },
    "language_info": {
      "name": "python"
    }
  },
  "cells": [
    {
      "cell_type": "markdown",
      "metadata": {
        "id": "view-in-github",
        "colab_type": "text"
      },
      "source": [
        "<a href=\"https://colab.research.google.com/github/devloic/piper-colab-train-notebook/blob/main/piper_colab_train_notebook.ipynb\" target=\"_parent\"><img src=\"https://colab.research.google.com/assets/colab-badge.svg\" alt=\"Open In Colab\"/></a>"
      ]
    },
    {
      "cell_type": "code",
      "source": [
        "#@title Install claude\n",
        "\n",
        "from IPython.display import clear_output\n",
        "import shutil\n",
        "\n",
        "\n",
        "Install_Claude = True #@param {type:\"boolean\"}\n",
        "if Install_Claude:\n",
        "  if shutil.which(\"claude\") is None:\n",
        "    print(\"installing claude\")\n",
        "    !npm install -g @anthropic-ai/claude-code\n",
        "  else:\n",
        "     print(\"claude allready installed\")"
      ],
      "metadata": {
        "colab": {
          "base_uri": "https://localhost:8080/"
        },
        "id": "MzI508HMV6dt",
        "outputId": "02d227c0-e266-4c8d-ccdd-6e0d9101f609"
      },
      "execution_count": null,
      "outputs": [
        {
          "output_type": "stream",
          "name": "stdout",
          "text": [
            "installing claude\n",
            "\u001b[1G\u001b[0K⠙\u001b[1G\u001b[0K⠹\u001b[1G\u001b[0K⠸\u001b[1G\u001b[0K⠼\u001b[1G\u001b[0K⠴\u001b[1G\u001b[0K⠦\u001b[1G\u001b[0K⠧\u001b[1G\u001b[0K⠇\u001b[1G\u001b[0K⠏\u001b[1G\u001b[0K⠋\u001b[1G\u001b[0K⠙\u001b[1G\u001b[0K⠹\u001b[1G\u001b[0K⠸\u001b[1G\u001b[0K⠼\u001b[1G\u001b[0K⠴\u001b[1G\u001b[0K⠦\u001b[1G\u001b[0K⠧\u001b[1G\u001b[0K⠇\u001b[1G\u001b[0K⠏\u001b[1G\u001b[0K⠋\u001b[1G\u001b[0K⠙\u001b[1G\u001b[0K⠹\u001b[1G\u001b[0K⠸\u001b[1G\u001b[0K⠼\u001b[1G\u001b[0K⠴\u001b[1G\u001b[0K⠦\u001b[1G\u001b[0K⠧\u001b[1G\u001b[0K⠇\u001b[1G\u001b[0K⠏\u001b[1G\u001b[0K⠋\u001b[1G\u001b[0K⠙\u001b[1G\u001b[0K⠹\u001b[1G\u001b[0K⠸\u001b[1G\u001b[0K⠼\u001b[1G\u001b[0K⠴\u001b[1G\u001b[0K⠦\u001b[1G\u001b[0K⠧\u001b[1G\u001b[0K⠇\u001b[1G\u001b[0K⠏\u001b[1G\u001b[0K⠋\u001b[1G\u001b[0K⠙\u001b[1G\u001b[0K⠹\u001b[1G\u001b[0K⠸\u001b[1G\u001b[0K\n",
            "added 3 packages in 4s\n",
            "\u001b[1G\u001b[0K⠸\u001b[1G\u001b[0K\n",
            "\u001b[1G\u001b[0K⠸\u001b[1G\u001b[0K2 packages are looking for funding\n",
            "\u001b[1G\u001b[0K⠸\u001b[1G\u001b[0K  run `npm fund` for details\n",
            "\u001b[1G\u001b[0K⠸\u001b[1G\u001b[0K"
          ]
        }
      ]
    },
    {
      "cell_type": "code",
      "source": [
        "def mount_with_drive_mount():\n",
        "  !mkdir -p /content/drive/drive.mount/\n",
        "  from google.colab import drive\n",
        "  drive.mount('/content/drive/drive.mount/', force_remount=True)\n",
        "\n",
        "mount_with_drive_mount()"
      ],
      "metadata": {
        "colab": {
          "base_uri": "https://localhost:8080/"
        },
        "id": "Qh5HIeXtXywl",
        "outputId": "b7f458a9-ed7e-4e19-83c4-ce9d51b022d5"
      },
      "execution_count": 83,
      "outputs": [
        {
          "output_type": "stream",
          "name": "stdout",
          "text": [
            "Mounted at /content/drive/drive.mount/\n"
          ]
        }
      ]
    },
    {
      "cell_type": "code",
      "execution_count": null,
      "metadata": {
        "colab": {
          "base_uri": "https://localhost:8080/"
        },
        "id": "-4AzPnme97-v",
        "outputId": "5cc3b74c-4e6a-4b3d-b8a1-791cc3bd027a"
      },
      "outputs": [
        {
          "output_type": "stream",
          "name": "stdout",
          "text": [
            "\u001b[2K   \u001b[90m━━━━━━━━━━━━━━━━━━━━━━━━━━━━━━━━━━━━━━━━\u001b[0m \u001b[32m10.0/10.0 MB\u001b[0m \u001b[31m47.2 MB/s\u001b[0m eta \u001b[36m0:00:00\u001b[0m\n",
            "\u001b[2K   \u001b[90m━━━━━━━━━━━━━━━━━━━━━━━━━━━━━━━━━━━━━━━━\u001b[0m \u001b[32m6.9/6.9 MB\u001b[0m \u001b[31m72.9 MB/s\u001b[0m eta \u001b[36m0:00:00\u001b[0m\n",
            "\u001b[?25h"
          ]
        }
      ],
      "source": [
        "!pip install -q streamlit\n",
        "!npm install localtunnel\n"
      ]
    },
    {
      "cell_type": "code",
      "source": [
        "%%writefile app_streamlit.py\n",
        "\n",
        "import streamlit as st\n",
        "\n",
        "st.write('Hello, *World!* :sunglasses:')"
      ],
      "metadata": {
        "colab": {
          "base_uri": "https://localhost:8080/"
        },
        "id": "4CJhZBCp-v1j",
        "outputId": "22a7dd8d-7fb5-4b8d-b928-33e6c8c2e46c"
      },
      "execution_count": null,
      "outputs": [
        {
          "output_type": "stream",
          "name": "stdout",
          "text": [
            "Writing app_streamlit.py\n"
          ]
        }
      ]
    },
    {
      "cell_type": "code",
      "source": [
        "!mkdir -p ~/.streamlit && echo -e \"[browser]\\ngatherUsageStats = false\" > ~/.streamlit/config.toml && rm -f /content/logs.txt; (streamlit run app_streamlit.py & npx localtunnel --port 8501) &> /content/logs.txt & while [ ! -s \"/content/logs.txt\" ]; do sleep 1; done; tail -f /content/logs.txt & grep -m1 -oP '(?<=External URL: http:\\/\\/)\\d+\\.\\d+\\.\\d+\\.\\d+' /content/logs.txt | xargs -I{} echo password: {}\n"
      ],
      "metadata": {
        "id": "6y2y01P6ESAo"
      },
      "execution_count": null,
      "outputs": []
    },
    {
      "cell_type": "code",
      "source": [
        "!pip install fastapi uvicorn nest-asyncio -q\n",
        "!npm install -g localtunnel"
      ],
      "metadata": {
        "id": "puxEryI6H-Vq"
      },
      "execution_count": null,
      "outputs": []
    },
    {
      "cell_type": "code",
      "source": [
        "%%writefile app.py\n",
        "from fastapi import FastAPI\n",
        "import json, os\n",
        "\n",
        "app = FastAPI()\n",
        "status_file = \"/content/status.json\"\n",
        "\n",
        "@app.get(\"/status\")\n",
        "def get_status():\n",
        "    if os.path.exists(status_file):\n",
        "        with open(status_file) as f:\n",
        "            return json.load(f)\n",
        "    return {\"status\": \"not started\"}\n",
        "\n",
        "@app.post(\"/start\")\n",
        "def start_process():\n",
        "    with open(status_file, \"w\") as f:\n",
        "        json.dump({\"status\": \"running\"}, f)\n",
        "    return {\"message\": \"Started!\"}\n",
        "\n",
        "@app.post(\"/stop\")\n",
        "def stop_process():\n",
        "    if os.path.exists(status_file):\n",
        "        os.remove(status_file)\n",
        "    return {\"message\": \"Stopped!\"}\n"
      ],
      "metadata": {
        "colab": {
          "base_uri": "https://localhost:8080/"
        },
        "id": "FX3d5ca9HwNy",
        "outputId": "cafbd23e-0e7f-4afa-fa0a-67e56efbf13d"
      },
      "execution_count": null,
      "outputs": [
        {
          "output_type": "stream",
          "name": "stdout",
          "text": [
            "Overwriting app.py\n"
          ]
        }
      ]
    },
    {
      "cell_type": "code",
      "source": [
        "!rm -f /content/logs.txt && nohup uvicorn app:app --host 0.0.0.0 --port 8501 &> /content/logs.txt & npx localtunnel --port 8501 &> /content/lt.txt & while ! grep -q 'your url is:' /content/lt.txt; do sleep 1; done; URL=$(grep -m1 'your url is:' /content/lt.txt | awk '{print $4}'); echo \"Tunnel URL: $URL\"; echo \"password:\" ;curl -s https://loca.lt/mytunnelpassword &\n"
      ],
      "metadata": {
        "id": "YJ_5dziNItWf"
      },
      "execution_count": null,
      "outputs": []
    },
    {
      "cell_type": "code",
      "source": [],
      "metadata": {
        "id": "mCdmRDCWfSJa"
      },
      "execution_count": null,
      "outputs": []
    },
    {
      "cell_type": "code",
      "source": [
        "  !cd /content/drive/drive.mount/MyDrive/piper-colab-train-fastapi && ./start_app.sh"
      ],
      "metadata": {
        "id": "cBz3ipu_N0r3"
      },
      "execution_count": null,
      "outputs": []
    },
    {
      "cell_type": "code",
      "source": [
        "!cd /content/drive/drive.mount/MyDrive/piper-colab-train-fastapi && ./restart_app.sh"
      ],
      "metadata": {
        "id": "doAqwwD0f0Fl"
      },
      "execution_count": null,
      "outputs": []
    },
    {
      "cell_type": "code",
      "source": [
        "!cd /content/drive/drive.mount/MyDrive/piper-colab-train-fastapi && ./stop_app.sh"
      ],
      "metadata": {
        "id": "0rJvRyFZf28M"
      },
      "execution_count": null,
      "outputs": []
    },
    {
      "cell_type": "code",
      "source": [
        "!pkill -f 'uvicorn app:app' && pkill -f localtunnel\n"
      ],
      "metadata": {
        "colab": {
          "base_uri": "https://localhost:8080/"
        },
        "id": "jEc3TeWbkE2T",
        "outputId": "4c58ca4f-b181-4d6b-bf92-a5c350778da5"
      },
      "execution_count": 59,
      "outputs": [
        {
          "output_type": "stream",
          "name": "stdout",
          "text": [
            "^C\n"
          ]
        }
      ]
    },
    {
      "cell_type": "markdown",
      "source": [],
      "metadata": {
        "id": "z9PyAO4a3b24"
      }
    },
    {
      "cell_type": "code",
      "source": [
        "  #pure python\n",
        "  import subprocess\n",
        "  import os\n",
        "  import time\n",
        "  import requests\n",
        "\n",
        "  # Change to app directory\n",
        "  os.chdir(\"/content/drive/drive.mount/MyDrive/piper-colab-train-fastapi\")\n",
        "\n",
        "  # Clean up\n",
        "  subprocess.run(['pkill', '-f', 'uvicorn app:app'], capture_output=True)\n",
        "  subprocess.run(['pkill', '-f', 'localtunnel'], capture_output=True)\n",
        "  for f in ['/content/logs.txt', '/content/lt.txt']:\n",
        "      if os.path.exists(f): os.remove(f)\n",
        "\n",
        "  # Start FastAPI\n",
        "  print(\"Starting FastAPI...\")\n",
        "  with open('/content/logs.txt', 'w') as log:\n",
        "      fastapi = subprocess.Popen(\n",
        "          ['uvicorn', 'app:app', '--host', '0.0.0.0', '--port', '8501'],\n",
        "          stdout=log, stderr=subprocess.STDOUT\n",
        "      )\n",
        "\n",
        "  # Wait for ready\n",
        "  time.sleep(3)\n",
        "\n",
        "  # Start localtunnel\n",
        "  print(\"Starting localtunnel...\")\n",
        "  lt = subprocess.Popen('npx localtunnel --port 8501 > /content/lt.txt 2>&1',\n",
        "  shell=True)\n",
        "\n",
        "  # Wait for URL\n",
        "  print(\"Waiting for tunnel URL...\")\n",
        "  for i in range(30):\n",
        "      if os.path.exists('/content/lt.txt'):\n",
        "          with open('/content/lt.txt') as f:\n",
        "              content = f.read()\n",
        "              if 'your url is:' in content.lower():\n",
        "                  url = content.split('your url is:')[1].split('\\n')[0].strip()\n",
        "                  print(f\"\\n🚀  App: {url}\")\n",
        "                  print(f\"📚  Docs: {url}/docs\")\n",
        "                  try:\n",
        "                      pwd = requests.get('https://loca.lt/mytunnelpassword').text.strip()\n",
        "                      print(f\"🔑  Password: {pwd}\")\n",
        "                  except: pass\n",
        "                  break\n",
        "      time.sleep(1)"
      ],
      "metadata": {
        "id": "I9iGZv2K6KG3"
      },
      "execution_count": null,
      "outputs": []
    },
    {
      "cell_type": "code",
      "source": [],
      "metadata": {
        "id": "LuoBNesSIANx"
      },
      "execution_count": 80,
      "outputs": []
    }
  ]
}