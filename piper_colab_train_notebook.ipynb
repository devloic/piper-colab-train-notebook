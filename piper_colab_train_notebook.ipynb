{
 "nbformat": 4,
 "nbformat_minor": 0,
 "metadata": {
  "colab": {
   "provenance": [],
   "authorship_tag": "ABX9TyPPS9z7Dz7yb8JW+SXhg88K",
   "include_colab_link": true
  },
  "kernelspec": {
   "name": "python3",
   "display_name": "Python 3"
  },
  "language_info": {
   "name": "python"
  }
 },
 "cells": [
  {
   "cell_type": "markdown",
   "metadata": {
    "id": "view-in-github",
    "colab_type": "text"
   },
   "source": [
    "<a href=\"https://colab.research.google.com/github/devloic/piper-colab-train-notebook/blob/main/piper_colab_train_notebook.ipynb\" target=\"_parent\"><img src=\"https://colab.research.google.com/assets/colab-badge.svg\" alt=\"Open In Colab\"/></a>"
   ]
  },
  {
   "cell_type": "code",
   "source": [
    "def mount_with_drive_mount():\n",
    "  !mkdir -p /content/drive/drive.mount/\n",
    "  from google.colab import drive\n",
    "  drive.mount('/content/drive/drive.mount/', force_remount=True)\n",
    "\n",
    "mount_with_drive_mount()"
   ],
   "metadata": {
    "colab": {
     "base_uri": "https://localhost:8080/"
    },
    "id": "Qh5HIeXtXywl",
    "outputId": "b7f458a9-ed7e-4e19-83c4-ce9d51b022d5"
   },
   "execution_count": 83,
   "outputs": [
    {
     "output_type": "stream",
     "name": "stdout",
     "text": [
      "Mounted at /content/drive/drive.mount/\n"
     ]
    }
   ]
  },
  {
   "cell_type": "code",
   "source": [
    "!pip install fastapi uvicorn nest-asyncio -q\n",
    "!npm install -g localtunnel"
   ],
   "metadata": {
    "id": "puxEryI6H-Vq"
   },
   "execution_count": null,
   "outputs": []
  },
  {
   "cell_type": "code",
   "source": [
    "  #pure python\n",
    "  import subprocess\n",
    "  import os\n",
    "  import time\n",
    "  import requests\n",
    "\n",
    "  # Change to app directory\n",
    "  os.chdir(\"/content/drive/drive.mount/MyDrive/piper-colab-train-fastapi\")\n",
    "\n",
    "  # Clean up\n",
    "  subprocess.run(['pkill', '-f', 'uvicorn app:app'], capture_output=True)\n",
    "  subprocess.run(['pkill', '-f', 'localtunnel'], capture_output=True)\n",
    "  for f in ['/content/logs.txt', '/content/lt.txt']:\n",
    "      if os.path.exists(f): os.remove(f)\n",
    "\n",
    "  # Start FastAPI\n",
    "  print(\"Starting FastAPI...\")\n",
    "  with open('/content/logs.txt', 'w') as log:\n",
    "      fastapi = subprocess.Popen(\n",
    "          ['uvicorn', 'app:app', '--host', '0.0.0.0', '--port', '8501'],\n",
    "          stdout=log, stderr=subprocess.STDOUT\n",
    "      )\n",
    "\n",
    "  # Wait for ready\n",
    "  time.sleep(3)\n",
    "\n",
    "  # Start localtunnel\n",
    "  print(\"Starting localtunnel...\")\n",
    "  lt = subprocess.Popen('npx localtunnel --port 8501 > /content/lt.txt 2>&1',\n",
    "  shell=True)\n",
    "\n",
    "  # Wait for URL\n",
    "  print(\"Waiting for tunnel URL...\")\n",
    "  for i in range(30):\n",
    "      if os.path.exists('/content/lt.txt'):\n",
    "          with open('/content/lt.txt') as f:\n",
    "              content = f.read()\n",
    "              if 'your url is:' in content.lower():\n",
    "                  url = content.split('your url is:')[1].split('\\n')[0].strip()\n",
    "                  print(f\"\\n🚀  App: {url}\")\n",
    "                  print(f\"📚  Docs: {url}/docs\")\n",
    "                  try:\n",
    "                      pwd = requests.get('https://loca.lt/mytunnelpassword').text.strip()\n",
    "                      print(f\"🔑  Password: {pwd}\")\n",
    "                  except: pass\n",
    "                  break\n",
    "      time.sleep(1)"
   ],
   "metadata": {
    "id": "I9iGZv2K6KG3"
   },
   "execution_count": null,
   "outputs": []
  },
  {
   "cell_type": "code",
   "source": [],
   "metadata": {
    "id": "LuoBNesSIANx"
   },
   "execution_count": 80,
   "outputs": []
  }
 ]
}
